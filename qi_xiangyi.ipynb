{
 "cells": [
  {
   "cell_type": "markdown",
   "metadata": {},
   "source": [
    "# The stock price of Apple "
   ]
  },
  {
   "cell_type": "markdown",
   "metadata": {},
   "source": [
    "## 1. import modules\n",
    "1. The names of team member(s):\n",
    "\n",
    "Xiangyi Qi; Yueming Gao\n",
    "\n",
    "2. How to run your code (what command-line switches they are, what happens when you invoke the code, etc.)\n",
    "\n",
    "This project requires the following packages:\n",
    "pandas(and pandas_datareader), numpy, urllib, beautifulsoup, LinearRegression, mean_squared_error and train_test_split\n",
    "After installing the above packages, and then simply clone the repo at https://github.com/xiangyiq/INF510_project.git \n",
    "\n",
    "3. Any major “gotchas” to the code (i.e. things that don’t work, go slowly, could be improved, etc.)\n",
    "The data is first obtained and stored from the web. Hence, the web connection is very important in the process of obtaining the raw data. It still takes around 10 to 20 seconds to run the code. We also got the warning ‘Using an implicitly registered datetime converter for a matplotlib plotting method’. Since we met the warning, so in the future we cannot use the matplotlib plotting method to make predictions due to the upgraded version of pandas. Additionally, the axis labels from our data visualization is not colored obviously, and the front size may be considered too small to read. \n",
    "\n",
    "\n",
    "4. Anything else you feel is relevant to the grading of your project your project. Also, answer some questions about the project itself:\n",
    "\n",
    "The first point is about CSV. We have to admit that CSV is not a perfect solution for saving data. It has some obvious defects including storing multiple CSV files look very massive and not very in order. However, in our task, it can work very well, since we only focus on investigating the relation between 5 factors. Because the size of our data isn't big. In handling small data, CSV then become a brief and useful tool. We can interact with CSV easily in Python. It is very easy to store and read from the CSV file and it is easy to output CSV files. Besides, we can open CSV in Excel and txt easily to read the data directly. It is very important for us to analyze and process our data. Talking about highlights, I think the most important point is that the model is very complete and comprehensive. From data obtaining to the last prediction result, the data flow and the workflow are very complete. They are all included in our Python file. Another point is the model performance is very good. We use rmse to evaluate the model in the test data set. The results show that the model has good performance and help us to make better conclusions about the relations between stock price, Dow Jones Indexes, Federal Funds Rate and Apple’s stock price.\n",
    "\n",
    "5. What did you set out to study? (i.e. what was the point of your project? This should be close to your Milestone 1 assignment, but if you switched gears or changed things, note it here.)\n",
    "\n",
    "The purpose of our study is to find  which factors are related with the stock price of Apple. If we can find the factors, we can use it to predict the trend of future stock price of Apple company. The main focus of this project is to investigate the relationship between the stock price of Apple and other existing economic indexes, which including stock price, Dow Jones Indexes, Federal Funds Rate. Is there a correlation or other relations between the stock price of Apple and these economic indexes? \n",
    "\n",
    "6. What did you Discover/what were your conclusions (i.e. what were your findings? Were your original assumptions confirmed, etc.?)\n",
    "\n",
    "\"\"\"correlation matrix\n",
    "\n",
    "\n",
    "\n",
    "\n",
    "                     apple       DJI    google      rate   gdp_growth\n",
    "      apple       1.000000  0.950960  0.954941  0.843253   -0.055622\n",
    "      DJI         0.950960  1.000000  0.971502  0.912359   -0.067134\n",
    "      google      0.954941  0.971502  1.000000  0.890862   -0.022177\n",
    "      rate        0.843253  0.912359  0.890862  1.000000    0.063581\n",
    "      gdp_growth -0.055622 -0.067134 -0.022177  0.063581    1.000000\n",
    "\n",
    "      model summary\n",
    "      OLS Regression Results\n",
    "      ==============================================================================\n",
    "      Dep. Variable:                  apple   R-squared:                       0.992\n",
    "      Model:                            OLS   Adj. R-squared:                  0.992\n",
    "      Method:                 Least Squares   F-statistic:                 2.527e+04\n",
    "      Date:                Tue, 10 Dec 2019   Prob (F-statistic):               0.00\n",
    "      Time:                        13:58:36   Log-Likelihood:                -3206.2\n",
    "      No. Observations:                 788   AIC:                             6420.\n",
    "      Df Residuals:                     784   BIC:                             6439.\n",
    "      Df Model:                           4\n",
    "      Covariance Type:            nonrobust\n",
    "      ==============================================================================\n",
    "      coef    std err          t      P>|t|      [0.025      0.975]\n",
    "      ------------------------------------------------------------------------------\n",
    "      DJI           -0.0017      0.000     -3.517      0.000      -0.003      -0.001\n",
    "      google         0.2042      0.011     18.042      0.000       0.182       0.226\n",
    "      rate          11.5254      1.084     10.628      0.000       9.397      13.654\n",
    "      gdp_growth    -8.9844      0.809    -11.100      0.000     -10.573      -7.396\n",
    "      ==============================================================================\n",
    "      Omnibus:                      159.176   Durbin-Watson:                   1.923\n",
    "      Prob(Omnibus):                  0.000   Jarque-Bera (JB):              352.245\n",
    "      Skew:                           1.099   Prob(JB):                     3.24e-77\n",
    "      Kurtosis:                       5.428   Cond. No.                     5.15e+04\n",
    "      ============================================================================== \"\"\"\n",
    "      \n",
    "The conclusion is that the DowJones index, the stock price of google, rate, and gdp_growth are all related to the stock price of Apple. From the correlation matrix, we can know that the stock price of Apple is highly correlated with the stock price of Google, the Dow Jones Index, and the federal funds rate. The correlation coefficients are higher than 0.8. According to the model summary information, firstly, we can find that the p-values of coefficients are all close to zero, which is lower than 0.05. It proves the coefficients are significant. secondly, we can find the R-squared value is very high. It is close to 99.2%. This proves that the model has good performance in explaining the stock price of Apple.\n",
    "\n",
    "\n",
    "7. What difficulties did you have in completing the project?\n",
    "\n",
    "The most difficult part is cleaning data and processing data. The data coming from the web is confused, unordered. Therefore, we need to first find out the useful time range to extract the data which is from 2016-2020, and then we use dataframe.head to read the data by returning the first n rows for the object based on position. It is useful for quickly reading any testing type of data is right or not. The problem that we also met is to import the py file in the notebook to call function and to extract remote data from the web and store it in our own disk. \n",
    "\n",
    "We also had difficulties to find the model of most appropriate statistical analysis to investigate the relationship between studied variables. After applying several economic models to the data, we choose correlation as the statistical analysis model. We got the knowledge that the adjusted r-square number decreases when a predictor improves the model by less than expected by chance. Adjusted r-square number that equals to one implies perfect prediction and is an indication of a problem in the model, and the adjusted r-square in our model is 0.992, which is very close to 1. We are happy to know that the outcome has a positive influence.\n",
    "\n",
    "\n",
    "8. What skills did you wish you had while you were doing the project?\n",
    "\n",
    "We hope we have enough knowledge about the web scraping and how to establish an internet in order to scrape more precisely and get to know more API and understand their advantages while processing different kinds of data. We also want to show more data visualization, with the example that provided by the instructor like scatterplot. Because we think data visualization is more easy for the readers to understand the content of the project. For the correlation among the factors, we still need more knowledge about several economic models to study on the prediction and relationships. We also wish we could have more solid Python skills that can help us find better ways to build up our dataframe and not use CSV files but other more advanced and short-cut ways to do data analysis.\n",
    "\n",
    "\n",
    "9. What would you do “next” to expand or augment the project?\n",
    "\n",
    "The next step that we are looking for to the project  is by using these 4 factors that we used in the project to make more precise and accurate prediction about Apple’s future stock price, and based on these factors, we can explore and choosing more factors than would help us better predict and even estimate Apple’s stock price. In the future, we want to add scatterplots or other diverse data analyzing and visualizing techniques to process our data. Last but not least, we want to explore other seemingly not as economical factors that might influence Apple’s stock price, such as Apple products’ released dates or national holidays like Black Friday.\n"
   ]
  },
  {
   "cell_type": "raw",
   "metadata": {},
   "source": []
  },
  {
   "cell_type": "code",
   "execution_count": 4,
   "metadata": {},
   "outputs": [],
   "source": [
    "import pandas as pd\n",
    "import numpy as np\n",
    "from pandas_datareader import data\n",
    "import urllib\n",
    "from bs4 import BeautifulSoup\n",
    "from datetime import date\n",
    "from statsmodels.api import OLS\n",
    "from sklearn.linear_model import LinearRegression\n",
    "from sklearn.model_selection import train_test_split\n",
    "import matplotlib.pyplot as plt\n",
    "from sklearn.metrics import mean_squared_error\n",
    "import os"
   ]
  },
  {
   "cell_type": "markdown",
   "metadata": {},
   "source": [
    "## 2. set working directory and read data "
   ]
  },
  {
   "cell_type": "code",
   "execution_count": 5,
   "metadata": {},
   "outputs": [],
   "source": [
    "from src.hw5_final import obtain_data"
   ]
  },
  {
   "cell_type": "code",
   "execution_count": 6,
   "metadata": {},
   "outputs": [],
   "source": [
    "df_apple, df_dji, df_ffr, df_google, df_gdp = obtain_data('remote')"
   ]
  },
  {
   "cell_type": "code",
   "execution_count": 7,
   "metadata": {},
   "outputs": [],
   "source": [
    "df_aa=obtain_data('local','AAPL.csv')\n",
    "df_cc=obtain_data('local','DJI.csv')\n",
    "df_dd=obtain_data('local','FFR.csv')\n",
    "df_ee=obtain_data('local','GDP.csv')\n",
    "df_ff=obtain_data('local','Google.csv')"
   ]
  },
  {
   "cell_type": "code",
   "execution_count": 8,
   "metadata": {},
   "outputs": [
    {
     "data": {
      "text/html": [
       "<div>\n",
       "<style scoped>\n",
       "    .dataframe tbody tr th:only-of-type {\n",
       "        vertical-align: middle;\n",
       "    }\n",
       "\n",
       "    .dataframe tbody tr th {\n",
       "        vertical-align: top;\n",
       "    }\n",
       "\n",
       "    .dataframe thead th {\n",
       "        text-align: right;\n",
       "    }\n",
       "</style>\n",
       "<table border=\"1\" class=\"dataframe\">\n",
       "  <thead>\n",
       "    <tr style=\"text-align: right;\">\n",
       "      <th></th>\n",
       "      <th>Date</th>\n",
       "      <th>High</th>\n",
       "      <th>Low</th>\n",
       "      <th>Open</th>\n",
       "      <th>Close</th>\n",
       "      <th>Volume</th>\n",
       "      <th>Adj Close</th>\n",
       "    </tr>\n",
       "  </thead>\n",
       "  <tbody>\n",
       "    <tr>\n",
       "      <th>0</th>\n",
       "      <td>2016-01-04</td>\n",
       "      <td>105.370003</td>\n",
       "      <td>102.000000</td>\n",
       "      <td>102.610001</td>\n",
       "      <td>105.349998</td>\n",
       "      <td>67649400.0</td>\n",
       "      <td>98.446655</td>\n",
       "    </tr>\n",
       "    <tr>\n",
       "      <th>1</th>\n",
       "      <td>2016-01-05</td>\n",
       "      <td>105.849998</td>\n",
       "      <td>102.410004</td>\n",
       "      <td>105.750000</td>\n",
       "      <td>102.709999</td>\n",
       "      <td>55791000.0</td>\n",
       "      <td>95.979675</td>\n",
       "    </tr>\n",
       "    <tr>\n",
       "      <th>2</th>\n",
       "      <td>2016-01-06</td>\n",
       "      <td>102.370003</td>\n",
       "      <td>99.870003</td>\n",
       "      <td>100.559998</td>\n",
       "      <td>100.699997</td>\n",
       "      <td>68457400.0</td>\n",
       "      <td>94.101387</td>\n",
       "    </tr>\n",
       "    <tr>\n",
       "      <th>3</th>\n",
       "      <td>2016-01-07</td>\n",
       "      <td>100.129997</td>\n",
       "      <td>96.430000</td>\n",
       "      <td>98.680000</td>\n",
       "      <td>96.449997</td>\n",
       "      <td>81094400.0</td>\n",
       "      <td>90.129868</td>\n",
       "    </tr>\n",
       "    <tr>\n",
       "      <th>4</th>\n",
       "      <td>2016-01-08</td>\n",
       "      <td>99.110001</td>\n",
       "      <td>96.760002</td>\n",
       "      <td>98.550003</td>\n",
       "      <td>96.959999</td>\n",
       "      <td>70798000.0</td>\n",
       "      <td>90.606438</td>\n",
       "    </tr>\n",
       "  </tbody>\n",
       "</table>\n",
       "</div>"
      ],
      "text/plain": [
       "         Date        High         Low        Open       Close      Volume  \\\n",
       "0  2016-01-04  105.370003  102.000000  102.610001  105.349998  67649400.0   \n",
       "1  2016-01-05  105.849998  102.410004  105.750000  102.709999  55791000.0   \n",
       "2  2016-01-06  102.370003   99.870003  100.559998  100.699997  68457400.0   \n",
       "3  2016-01-07  100.129997   96.430000   98.680000   96.449997  81094400.0   \n",
       "4  2016-01-08   99.110001   96.760002   98.550003   96.959999  70798000.0   \n",
       "\n",
       "   Adj Close  \n",
       "0  98.446655  \n",
       "1  95.979675  \n",
       "2  94.101387  \n",
       "3  90.129868  \n",
       "4  90.606438  "
      ]
     },
     "execution_count": 8,
     "metadata": {},
     "output_type": "execute_result"
    }
   ],
   "source": [
    "df_aa.head()"
   ]
  },
  {
   "cell_type": "code",
   "execution_count": 9,
   "metadata": {},
   "outputs": [
    {
     "data": {
      "text/html": [
       "<div>\n",
       "<style scoped>\n",
       "    .dataframe tbody tr th:only-of-type {\n",
       "        vertical-align: middle;\n",
       "    }\n",
       "\n",
       "    .dataframe tbody tr th {\n",
       "        vertical-align: top;\n",
       "    }\n",
       "\n",
       "    .dataframe thead th {\n",
       "        text-align: right;\n",
       "    }\n",
       "</style>\n",
       "<table border=\"1\" class=\"dataframe\">\n",
       "  <thead>\n",
       "    <tr style=\"text-align: right;\">\n",
       "      <th></th>\n",
       "      <th>Date</th>\n",
       "      <th>High</th>\n",
       "      <th>Low</th>\n",
       "      <th>Open</th>\n",
       "      <th>Close</th>\n",
       "      <th>Volume</th>\n",
       "      <th>Adj Close</th>\n",
       "    </tr>\n",
       "  </thead>\n",
       "  <tbody>\n",
       "    <tr>\n",
       "      <th>0</th>\n",
       "      <td>2016-01-04</td>\n",
       "      <td>17405.480469</td>\n",
       "      <td>16957.630859</td>\n",
       "      <td>17405.480469</td>\n",
       "      <td>17148.939453</td>\n",
       "      <td>148060000</td>\n",
       "      <td>17148.939453</td>\n",
       "    </tr>\n",
       "    <tr>\n",
       "      <th>1</th>\n",
       "      <td>2016-01-05</td>\n",
       "      <td>17195.839844</td>\n",
       "      <td>17038.609375</td>\n",
       "      <td>17147.500000</td>\n",
       "      <td>17158.660156</td>\n",
       "      <td>105750000</td>\n",
       "      <td>17158.660156</td>\n",
       "    </tr>\n",
       "    <tr>\n",
       "      <th>2</th>\n",
       "      <td>2016-01-06</td>\n",
       "      <td>17154.830078</td>\n",
       "      <td>16817.619141</td>\n",
       "      <td>17154.830078</td>\n",
       "      <td>16906.509766</td>\n",
       "      <td>120250000</td>\n",
       "      <td>16906.509766</td>\n",
       "    </tr>\n",
       "    <tr>\n",
       "      <th>3</th>\n",
       "      <td>2016-01-07</td>\n",
       "      <td>16888.359375</td>\n",
       "      <td>16463.630859</td>\n",
       "      <td>16888.359375</td>\n",
       "      <td>16514.099609</td>\n",
       "      <td>176240000</td>\n",
       "      <td>16514.099609</td>\n",
       "    </tr>\n",
       "    <tr>\n",
       "      <th>4</th>\n",
       "      <td>2016-01-08</td>\n",
       "      <td>16651.890625</td>\n",
       "      <td>16314.570312</td>\n",
       "      <td>16519.169922</td>\n",
       "      <td>16346.450195</td>\n",
       "      <td>141850000</td>\n",
       "      <td>16346.450195</td>\n",
       "    </tr>\n",
       "  </tbody>\n",
       "</table>\n",
       "</div>"
      ],
      "text/plain": [
       "         Date          High           Low          Open         Close  \\\n",
       "0  2016-01-04  17405.480469  16957.630859  17405.480469  17148.939453   \n",
       "1  2016-01-05  17195.839844  17038.609375  17147.500000  17158.660156   \n",
       "2  2016-01-06  17154.830078  16817.619141  17154.830078  16906.509766   \n",
       "3  2016-01-07  16888.359375  16463.630859  16888.359375  16514.099609   \n",
       "4  2016-01-08  16651.890625  16314.570312  16519.169922  16346.450195   \n",
       "\n",
       "      Volume     Adj Close  \n",
       "0  148060000  17148.939453  \n",
       "1  105750000  17158.660156  \n",
       "2  120250000  16906.509766  \n",
       "3  176240000  16514.099609  \n",
       "4  141850000  16346.450195  "
      ]
     },
     "execution_count": 9,
     "metadata": {},
     "output_type": "execute_result"
    }
   ],
   "source": [
    "df_cc.head()"
   ]
  },
  {
   "cell_type": "code",
   "execution_count": 10,
   "metadata": {},
   "outputs": [
    {
     "data": {
      "text/html": [
       "<div>\n",
       "<style scoped>\n",
       "    .dataframe tbody tr th:only-of-type {\n",
       "        vertical-align: middle;\n",
       "    }\n",
       "\n",
       "    .dataframe tbody tr th {\n",
       "        vertical-align: top;\n",
       "    }\n",
       "\n",
       "    .dataframe thead th {\n",
       "        text-align: right;\n",
       "    }\n",
       "</style>\n",
       "<table border=\"1\" class=\"dataframe\">\n",
       "  <thead>\n",
       "    <tr style=\"text-align: right;\">\n",
       "      <th></th>\n",
       "      <th>date</th>\n",
       "      <th>rate</th>\n",
       "    </tr>\n",
       "  </thead>\n",
       "  <tbody>\n",
       "    <tr>\n",
       "      <th>0</th>\n",
       "      <td>1991-02-01</td>\n",
       "      <td>6.25</td>\n",
       "    </tr>\n",
       "    <tr>\n",
       "      <th>1</th>\n",
       "      <td>1991-03-01</td>\n",
       "      <td>6.12</td>\n",
       "    </tr>\n",
       "    <tr>\n",
       "      <th>2</th>\n",
       "      <td>1991-04-01</td>\n",
       "      <td>5.91</td>\n",
       "    </tr>\n",
       "    <tr>\n",
       "      <th>3</th>\n",
       "      <td>1991-05-01</td>\n",
       "      <td>5.78</td>\n",
       "    </tr>\n",
       "    <tr>\n",
       "      <th>4</th>\n",
       "      <td>1991-06-01</td>\n",
       "      <td>5.90</td>\n",
       "    </tr>\n",
       "  </tbody>\n",
       "</table>\n",
       "</div>"
      ],
      "text/plain": [
       "         date  rate\n",
       "0  1991-02-01  6.25\n",
       "1  1991-03-01  6.12\n",
       "2  1991-04-01  5.91\n",
       "3  1991-05-01  5.78\n",
       "4  1991-06-01  5.90"
      ]
     },
     "execution_count": 10,
     "metadata": {},
     "output_type": "execute_result"
    }
   ],
   "source": [
    "df_dd.head()"
   ]
  },
  {
   "cell_type": "code",
   "execution_count": 11,
   "metadata": {},
   "outputs": [
    {
     "data": {
      "text/html": [
       "<div>\n",
       "<style scoped>\n",
       "    .dataframe tbody tr th:only-of-type {\n",
       "        vertical-align: middle;\n",
       "    }\n",
       "\n",
       "    .dataframe tbody tr th {\n",
       "        vertical-align: top;\n",
       "    }\n",
       "\n",
       "    .dataframe thead th {\n",
       "        text-align: right;\n",
       "    }\n",
       "</style>\n",
       "<table border=\"1\" class=\"dataframe\">\n",
       "  <thead>\n",
       "    <tr style=\"text-align: right;\">\n",
       "      <th></th>\n",
       "      <th>Date</th>\n",
       "      <th>High</th>\n",
       "      <th>Low</th>\n",
       "      <th>Open</th>\n",
       "      <th>Close</th>\n",
       "      <th>Volume</th>\n",
       "      <th>Adj Close</th>\n",
       "    </tr>\n",
       "  </thead>\n",
       "  <tbody>\n",
       "    <tr>\n",
       "      <th>0</th>\n",
       "      <td>2016-01-04</td>\n",
       "      <td>744.059998</td>\n",
       "      <td>731.257996</td>\n",
       "      <td>743.000000</td>\n",
       "      <td>741.840027</td>\n",
       "      <td>3272800</td>\n",
       "      <td>741.840027</td>\n",
       "    </tr>\n",
       "    <tr>\n",
       "      <th>1</th>\n",
       "      <td>2016-01-05</td>\n",
       "      <td>752.000000</td>\n",
       "      <td>738.640015</td>\n",
       "      <td>746.450012</td>\n",
       "      <td>742.580017</td>\n",
       "      <td>1950700</td>\n",
       "      <td>742.580017</td>\n",
       "    </tr>\n",
       "    <tr>\n",
       "      <th>2</th>\n",
       "      <td>2016-01-06</td>\n",
       "      <td>747.179993</td>\n",
       "      <td>728.919983</td>\n",
       "      <td>730.000000</td>\n",
       "      <td>743.619995</td>\n",
       "      <td>1947000</td>\n",
       "      <td>743.619995</td>\n",
       "    </tr>\n",
       "    <tr>\n",
       "      <th>3</th>\n",
       "      <td>2016-01-07</td>\n",
       "      <td>738.500000</td>\n",
       "      <td>719.059998</td>\n",
       "      <td>730.309998</td>\n",
       "      <td>726.390015</td>\n",
       "      <td>2963700</td>\n",
       "      <td>726.390015</td>\n",
       "    </tr>\n",
       "    <tr>\n",
       "      <th>4</th>\n",
       "      <td>2016-01-08</td>\n",
       "      <td>733.229980</td>\n",
       "      <td>713.000000</td>\n",
       "      <td>731.450012</td>\n",
       "      <td>714.469971</td>\n",
       "      <td>2450900</td>\n",
       "      <td>714.469971</td>\n",
       "    </tr>\n",
       "  </tbody>\n",
       "</table>\n",
       "</div>"
      ],
      "text/plain": [
       "         Date        High         Low        Open       Close   Volume  \\\n",
       "0  2016-01-04  744.059998  731.257996  743.000000  741.840027  3272800   \n",
       "1  2016-01-05  752.000000  738.640015  746.450012  742.580017  1950700   \n",
       "2  2016-01-06  747.179993  728.919983  730.000000  743.619995  1947000   \n",
       "3  2016-01-07  738.500000  719.059998  730.309998  726.390015  2963700   \n",
       "4  2016-01-08  733.229980  713.000000  731.450012  714.469971  2450900   \n",
       "\n",
       "    Adj Close  \n",
       "0  741.840027  \n",
       "1  742.580017  \n",
       "2  743.619995  \n",
       "3  726.390015  \n",
       "4  714.469971  "
      ]
     },
     "execution_count": 11,
     "metadata": {},
     "output_type": "execute_result"
    }
   ],
   "source": [
    "df_ff.head()"
   ]
  },
  {
   "cell_type": "code",
   "execution_count": 12,
   "metadata": {},
   "outputs": [
    {
     "data": {
      "text/html": [
       "<div>\n",
       "<style scoped>\n",
       "    .dataframe tbody tr th:only-of-type {\n",
       "        vertical-align: middle;\n",
       "    }\n",
       "\n",
       "    .dataframe tbody tr th {\n",
       "        vertical-align: top;\n",
       "    }\n",
       "\n",
       "    .dataframe thead th {\n",
       "        text-align: right;\n",
       "    }\n",
       "</style>\n",
       "<table border=\"1\" class=\"dataframe\">\n",
       "  <thead>\n",
       "    <tr style=\"text-align: right;\">\n",
       "      <th></th>\n",
       "      <th>gdp_growth</th>\n",
       "      <th>year</th>\n",
       "    </tr>\n",
       "  </thead>\n",
       "  <tbody>\n",
       "    <tr>\n",
       "      <th>0</th>\n",
       "      <td>\"2.29999999999959\"</td>\n",
       "      <td>\"1962\"</td>\n",
       "    </tr>\n",
       "    <tr>\n",
       "      <th>1</th>\n",
       "      <td>\"6.10000000000004\"</td>\n",
       "      <td>\"1963\"</td>\n",
       "    </tr>\n",
       "    <tr>\n",
       "      <th>2</th>\n",
       "      <td>\"4.40000000000001\"</td>\n",
       "      <td>\"1964\"</td>\n",
       "    </tr>\n",
       "    <tr>\n",
       "      <th>3</th>\n",
       "      <td>\"5.80000000000027\"</td>\n",
       "      <td>\"1965\"</td>\n",
       "    </tr>\n",
       "    <tr>\n",
       "      <th>4</th>\n",
       "      <td>\"6.39999999999968\"</td>\n",
       "      <td>\"1966\"</td>\n",
       "    </tr>\n",
       "  </tbody>\n",
       "</table>\n",
       "</div>"
      ],
      "text/plain": [
       "           gdp_growth    year\n",
       "0  \"2.29999999999959\"  \"1962\"\n",
       "1  \"6.10000000000004\"  \"1963\"\n",
       "2  \"4.40000000000001\"  \"1964\"\n",
       "3  \"5.80000000000027\"  \"1965\"\n",
       "4  \"6.39999999999968\"  \"1966\""
      ]
     },
     "execution_count": 12,
     "metadata": {},
     "output_type": "execute_result"
    }
   ],
   "source": [
    "df_ee.head()"
   ]
  },
  {
   "cell_type": "markdown",
   "metadata": {},
   "source": [
    "\n",
    "## 3. merge and clean data"
   ]
  },
  {
   "cell_type": "code",
   "execution_count": 13,
   "metadata": {},
   "outputs": [],
   "source": [
    "# process df_apple, df_dji, df_google\n",
    "df1 = pd.concat([df_apple['Adj Close'], df_dji['Adj Close'], df_google['Adj Close']],axis = 1)\n",
    "df2 = df1.reset_index()\n",
    "df2['year-mon'] = df2['Date'].apply(lambda x: date.strftime(x,'%Y%m'),1)\n",
    "df2['year'] = df2['Date'].apply(lambda x: x.year,1)\n",
    "\n",
    "# post-process df_ffr\n",
    "df3 = df_ffr\n",
    "df3['year-mon'] = df3['date'].apply(lambda x: x[0:4]+x[5:7],1)\n",
    "# change the variable type\n",
    "df3['rate'] = df3['rate'].astype(float)\n",
    "\n",
    "# merge the two dataframes\n",
    "df4 = pd.merge(df2,df3,on='year-mon')\n",
    "\n",
    "# post-process df_gdp\n",
    "# initial df5\n",
    "df5 = df_ee\n",
    "# strip quote in variable year and convert it to int\n",
    "df5['year'] = df5['year'].apply(lambda x:int(x.strip('\"')))\n",
    "# strip quote in variable gdp and round it.\n",
    "df5['gdp_growth'] = df5['gdp_growth'].apply(lambda x: round(float(x.strip('\"')),3))\n",
    "\n",
    "# merge df4 and df5\n",
    "df = pd.merge(df4,df5,on='year')\n",
    "# rename columns\n",
    "df.columns = ['date','apple','DJI','google','year-mon','year','date_','rate','gdp_growth']\n",
    "# subset\n",
    "df = df[['date','apple','DJI','google','rate','gdp_growth']]\n",
    "# By now, we get the final processed dataframe.\n",
    "# reset column date as index\n",
    "df.set_index('date',inplace=True)\n",
    "\n",
    "save_path = os.path.dirname(os.getcwd())+'\\\\data'\n",
    "# output the clean data to local\n",
    "save_cleaned_df = save_path + '\\\\cleaned_df.csv'\n",
    "df.to_csv(save_cleaned_df)"
   ]
  },
  {
   "cell_type": "code",
   "execution_count": 14,
   "metadata": {},
   "outputs": [
    {
     "data": {
      "text/html": [
       "<div>\n",
       "<style scoped>\n",
       "    .dataframe tbody tr th:only-of-type {\n",
       "        vertical-align: middle;\n",
       "    }\n",
       "\n",
       "    .dataframe tbody tr th {\n",
       "        vertical-align: top;\n",
       "    }\n",
       "\n",
       "    .dataframe thead th {\n",
       "        text-align: right;\n",
       "    }\n",
       "</style>\n",
       "<table border=\"1\" class=\"dataframe\">\n",
       "  <thead>\n",
       "    <tr style=\"text-align: right;\">\n",
       "      <th></th>\n",
       "      <th>apple</th>\n",
       "      <th>DJI</th>\n",
       "      <th>google</th>\n",
       "      <th>rate</th>\n",
       "      <th>gdp_growth</th>\n",
       "    </tr>\n",
       "    <tr>\n",
       "      <th>date</th>\n",
       "      <th></th>\n",
       "      <th></th>\n",
       "      <th></th>\n",
       "      <th></th>\n",
       "      <th></th>\n",
       "    </tr>\n",
       "  </thead>\n",
       "  <tbody>\n",
       "    <tr>\n",
       "      <th>2016-01-04</th>\n",
       "      <td>98.446655</td>\n",
       "      <td>17148.939453</td>\n",
       "      <td>741.840027</td>\n",
       "      <td>0.34</td>\n",
       "      <td>2.881</td>\n",
       "    </tr>\n",
       "    <tr>\n",
       "      <th>2016-01-05</th>\n",
       "      <td>95.979675</td>\n",
       "      <td>17158.660156</td>\n",
       "      <td>742.580017</td>\n",
       "      <td>0.34</td>\n",
       "      <td>2.881</td>\n",
       "    </tr>\n",
       "    <tr>\n",
       "      <th>2016-01-06</th>\n",
       "      <td>94.101387</td>\n",
       "      <td>16906.509766</td>\n",
       "      <td>743.619995</td>\n",
       "      <td>0.34</td>\n",
       "      <td>2.881</td>\n",
       "    </tr>\n",
       "    <tr>\n",
       "      <th>2016-01-07</th>\n",
       "      <td>90.129868</td>\n",
       "      <td>16514.099609</td>\n",
       "      <td>726.390015</td>\n",
       "      <td>0.34</td>\n",
       "      <td>2.881</td>\n",
       "    </tr>\n",
       "    <tr>\n",
       "      <th>2016-01-08</th>\n",
       "      <td>90.606438</td>\n",
       "      <td>16346.450195</td>\n",
       "      <td>714.469971</td>\n",
       "      <td>0.34</td>\n",
       "      <td>2.881</td>\n",
       "    </tr>\n",
       "  </tbody>\n",
       "</table>\n",
       "</div>"
      ],
      "text/plain": [
       "                apple           DJI      google  rate  gdp_growth\n",
       "date                                                             \n",
       "2016-01-04  98.446655  17148.939453  741.840027  0.34       2.881\n",
       "2016-01-05  95.979675  17158.660156  742.580017  0.34       2.881\n",
       "2016-01-06  94.101387  16906.509766  743.619995  0.34       2.881\n",
       "2016-01-07  90.129868  16514.099609  726.390015  0.34       2.881\n",
       "2016-01-08  90.606438  16346.450195  714.469971  0.34       2.881"
      ]
     },
     "execution_count": 14,
     "metadata": {},
     "output_type": "execute_result"
    }
   ],
   "source": [
    "df.head()"
   ]
  },
  {
   "cell_type": "markdown",
   "metadata": {},
   "source": [
    "## 4. data visualization"
   ]
  },
  {
   "cell_type": "code",
   "execution_count": 15,
   "metadata": {},
   "outputs": [
    {
     "data": {
      "text/plain": [
       "(array([735964., 736146., 736330., 736511., 736695., 736876., 737060.,\n",
       "        737241., 737425.]), <a list of 9 Text xticklabel objects>)"
      ]
     },
     "execution_count": 15,
     "metadata": {},
     "output_type": "execute_result"
    },
    {
     "data": {
      "image/png": "[encoded data removed]",
      "text/plain": [
       "<Figure size 720x432 with 2 Axes>"
      ]
     },
     "metadata": {
      "needs_background": "light"
     },
     "output_type": "display_data"
    }
   ],
   "source": [
    "fig, ax1 = plt.subplots(figsize=(10, 6))\n",
    "\n",
    "ax1.plot(df['apple'], 'r', label='$apple$')\n",
    "ax1.plot(df['google'], 'b', label='$google$')\n",
    "ax1.legend(loc=0)\n",
    "# instantiate a second axes that shares the same x-axis\n",
    "ax2 = ax1.twinx()\n",
    "ax2.plot(df['DJI'], 'y')\n",
    "ax2.set_ylabel('Dow Jones Index',color='y')\n",
    "#plt.plot(c_4.mean(axis=1), 'm', label='$f=0.5$')\n",
    "plt.title('The stock price of Apple, Google, and Dow Jones Index')\n",
    "plt.xlabel('date')\n",
    "plt.xticks(rotation=45)"
   ]
  },
  {
   "cell_type": "code",
   "execution_count": 16,
   "metadata": {},
   "outputs": [
    {
     "data": {
      "text/plain": [
       "Text(0.5, 0, 'date')"
      ]
     },
     "execution_count": 16,
     "metadata": {},
     "output_type": "execute_result"
    },
    {
     "data": {
      "image/png": "[encoded data removed]",
      "text/plain": [
       "<Figure size 720x432 with 2 Axes>"
      ]
     },
     "metadata": {
      "needs_background": "light"
     },
     "output_type": "display_data"
    }
   ],
   "source": [
    "fig, ax1 = plt.subplots(figsize=(10, 6))\n",
    "\n",
    "ax1.plot(df['rate'], 'b', label='$rate$')\n",
    "ax1.legend(loc=0)\n",
    "# instantiate a second axes that shares the same x-axis\n",
    "ax2 = ax1.twinx()\n",
    "ax2.plot(df['gdp_growth'], 'y')\n",
    "ax2.set_ylabel('gdp_growth',color='y')\n",
    "#plt.plot(c_4.mean(axis=1), 'm', label='$f=0.5$')\n",
    "plt.title('The Federal fund rate and gdp growth')\n",
    "plt.xlabel('date')"
   ]
  },
  {
   "cell_type": "markdown",
   "metadata": {},
   "source": [
    "## 5. correlation matrix"
   ]
  },
  {
   "cell_type": "code",
   "execution_count": 17,
   "metadata": {},
   "outputs": [
    {
     "data": {
      "text/html": [
       "<div>\n",
       "<style scoped>\n",
       "    .dataframe tbody tr th:only-of-type {\n",
       "        vertical-align: middle;\n",
       "    }\n",
       "\n",
       "    .dataframe tbody tr th {\n",
       "        vertical-align: top;\n",
       "    }\n",
       "\n",
       "    .dataframe thead th {\n",
       "        text-align: right;\n",
       "    }\n",
       "</style>\n",
       "<table border=\"1\" class=\"dataframe\">\n",
       "  <thead>\n",
       "    <tr style=\"text-align: right;\">\n",
       "      <th></th>\n",
       "      <th>apple</th>\n",
       "      <th>DJI</th>\n",
       "      <th>google</th>\n",
       "      <th>rate</th>\n",
       "      <th>gdp_growth</th>\n",
       "    </tr>\n",
       "  </thead>\n",
       "  <tbody>\n",
       "    <tr>\n",
       "      <th>apple</th>\n",
       "      <td>1.000000</td>\n",
       "      <td>0.950881</td>\n",
       "      <td>0.954869</td>\n",
       "      <td>0.842950</td>\n",
       "      <td>-0.055470</td>\n",
       "    </tr>\n",
       "    <tr>\n",
       "      <th>DJI</th>\n",
       "      <td>0.950881</td>\n",
       "      <td>1.000000</td>\n",
       "      <td>0.971491</td>\n",
       "      <td>0.912156</td>\n",
       "      <td>-0.066980</td>\n",
       "    </tr>\n",
       "    <tr>\n",
       "      <th>google</th>\n",
       "      <td>0.954869</td>\n",
       "      <td>0.971491</td>\n",
       "      <td>1.000000</td>\n",
       "      <td>0.890683</td>\n",
       "      <td>-0.022005</td>\n",
       "    </tr>\n",
       "    <tr>\n",
       "      <th>rate</th>\n",
       "      <td>0.842950</td>\n",
       "      <td>0.912156</td>\n",
       "      <td>0.890683</td>\n",
       "      <td>1.000000</td>\n",
       "      <td>0.063880</td>\n",
       "    </tr>\n",
       "    <tr>\n",
       "      <th>gdp_growth</th>\n",
       "      <td>-0.055470</td>\n",
       "      <td>-0.066980</td>\n",
       "      <td>-0.022005</td>\n",
       "      <td>0.063880</td>\n",
       "      <td>1.000000</td>\n",
       "    </tr>\n",
       "  </tbody>\n",
       "</table>\n",
       "</div>"
      ],
      "text/plain": [
       "               apple       DJI    google      rate  gdp_growth\n",
       "apple       1.000000  0.950881  0.954869  0.842950   -0.055470\n",
       "DJI         0.950881  1.000000  0.971491  0.912156   -0.066980\n",
       "google      0.954869  0.971491  1.000000  0.890683   -0.022005\n",
       "rate        0.842950  0.912156  0.890683  1.000000    0.063880\n",
       "gdp_growth -0.055470 -0.066980 -0.022005  0.063880    1.000000"
      ]
     },
     "execution_count": 17,
     "metadata": {},
     "output_type": "execute_result"
    }
   ],
   "source": [
    "df.corr()"
   ]
  },
  {
   "cell_type": "markdown",
   "metadata": {},
   "source": [
    "## 6. regression model"
   ]
  },
  {
   "cell_type": "code",
   "execution_count": 18,
   "metadata": {},
   "outputs": [
    {
     "data": {
      "text/html": [
       "<table class=\"simpletable\">\n",
       "<caption>OLS Regression Results</caption>\n",
       "<tr>\n",
       "  <th>Dep. Variable:</th>          <td>apple</td>      <th>  R-squared (uncentered):</th>      <td>   0.992</td> \n",
       "</tr>\n",
       "<tr>\n",
       "  <th>Model:</th>                   <td>OLS</td>       <th>  Adj. R-squared (uncentered):</th> <td>   0.992</td> \n",
       "</tr>\n",
       "<tr>\n",
       "  <th>Method:</th>             <td>Least Squares</td>  <th>  F-statistic:       </th>          <td>2.550e+04</td>\n",
       "</tr>\n",
       "<tr>\n",
       "  <th>Date:</th>             <td>Fri, 13 Dec 2019</td> <th>  Prob (F-statistic):</th>           <td>  0.00</td>  \n",
       "</tr>\n",
       "<tr>\n",
       "  <th>Time:</th>                 <td>12:49:53</td>     <th>  Log-Likelihood:    </th>          <td> -3198.5</td> \n",
       "</tr>\n",
       "<tr>\n",
       "  <th>No. Observations:</th>      <td>   787</td>      <th>  AIC:               </th>          <td>   6405.</td> \n",
       "</tr>\n",
       "<tr>\n",
       "  <th>Df Residuals:</th>          <td>   783</td>      <th>  BIC:               </th>          <td>   6424.</td> \n",
       "</tr>\n",
       "<tr>\n",
       "  <th>Df Model:</th>              <td>     4</td>      <th>                     </th>              <td> </td>    \n",
       "</tr>\n",
       "<tr>\n",
       "  <th>Covariance Type:</th>      <td>nonrobust</td>    <th>                     </th>              <td> </td>    \n",
       "</tr>\n",
       "</table>\n",
       "<table class=\"simpletable\">\n",
       "<tr>\n",
       "       <td></td>         <th>coef</th>     <th>std err</th>      <th>t</th>      <th>P>|t|</th>  <th>[0.025</th>    <th>0.975]</th>  \n",
       "</tr>\n",
       "<tr>\n",
       "  <th>DJI</th>        <td>   -0.0018</td> <td>    0.000</td> <td>   -3.666</td> <td> 0.000</td> <td>   -0.003</td> <td>   -0.001</td>\n",
       "</tr>\n",
       "<tr>\n",
       "  <th>google</th>     <td>    0.2067</td> <td>    0.011</td> <td>   18.243</td> <td> 0.000</td> <td>    0.184</td> <td>    0.229</td>\n",
       "</tr>\n",
       "<tr>\n",
       "  <th>rate</th>       <td>   11.1768</td> <td>    1.088</td> <td>   10.274</td> <td> 0.000</td> <td>    9.041</td> <td>   13.312</td>\n",
       "</tr>\n",
       "<tr>\n",
       "  <th>gdp_growth</th> <td>   -9.1055</td> <td>    0.807</td> <td>  -11.285</td> <td> 0.000</td> <td>  -10.689</td> <td>   -7.522</td>\n",
       "</tr>\n",
       "</table>\n",
       "<table class=\"simpletable\">\n",
       "<tr>\n",
       "  <th>Omnibus:</th>       <td>157.367</td> <th>  Durbin-Watson:     </th> <td>   1.972</td>\n",
       "</tr>\n",
       "<tr>\n",
       "  <th>Prob(Omnibus):</th> <td> 0.000</td>  <th>  Jarque-Bera (JB):  </th> <td> 347.060</td>\n",
       "</tr>\n",
       "<tr>\n",
       "  <th>Skew:</th>          <td> 1.090</td>  <th>  Prob(JB):          </th> <td>4.33e-76</td>\n",
       "</tr>\n",
       "<tr>\n",
       "  <th>Kurtosis:</th>      <td> 5.415</td>  <th>  Cond. No.          </th> <td>5.18e+04</td>\n",
       "</tr>\n",
       "</table><br/><br/>Warnings:<br/>[1] Standard Errors assume that the covariance matrix of the errors is correctly specified.<br/>[2] The condition number is large, 5.18e+04. This might indicate that there are<br/>strong multicollinearity or other numerical problems."
      ],
      "text/plain": [
       "<class 'statsmodels.iolib.summary.Summary'>\n",
       "\"\"\"\n",
       "                                 OLS Regression Results                                \n",
       "=======================================================================================\n",
       "Dep. Variable:                  apple   R-squared (uncentered):                   0.992\n",
       "Model:                            OLS   Adj. R-squared (uncentered):              0.992\n",
       "Method:                 Least Squares   F-statistic:                          2.550e+04\n",
       "Date:                Fri, 13 Dec 2019   Prob (F-statistic):                        0.00\n",
       "Time:                        12:49:53   Log-Likelihood:                         -3198.5\n",
       "No. Observations:                 787   AIC:                                      6405.\n",
       "Df Residuals:                     783   BIC:                                      6424.\n",
       "Df Model:                           4                                                  \n",
       "Covariance Type:            nonrobust                                                  \n",
       "==============================================================================\n",
       "                 coef    std err          t      P>|t|      [0.025      0.975]\n",
       "------------------------------------------------------------------------------\n",
       "DJI           -0.0018      0.000     -3.666      0.000      -0.003      -0.001\n",
       "google         0.2067      0.011     18.243      0.000       0.184       0.229\n",
       "rate          11.1768      1.088     10.274      0.000       9.041      13.312\n",
       "gdp_growth    -9.1055      0.807    -11.285      0.000     -10.689      -7.522\n",
       "==============================================================================\n",
       "Omnibus:                      157.367   Durbin-Watson:                   1.972\n",
       "Prob(Omnibus):                  0.000   Jarque-Bera (JB):              347.060\n",
       "Skew:                           1.090   Prob(JB):                     4.33e-76\n",
       "Kurtosis:                       5.415   Cond. No.                     5.18e+04\n",
       "==============================================================================\n",
       "\n",
       "Warnings:\n",
       "[1] Standard Errors assume that the covariance matrix of the errors is correctly specified.\n",
       "[2] The condition number is large, 5.18e+04. This might indicate that there are\n",
       "strong multicollinearity or other numerical problems.\n",
       "\"\"\""
      ]
     },
     "execution_count": 18,
     "metadata": {},
     "output_type": "execute_result"
    }
   ],
   "source": [
    "# regression\n",
    "X = df[['DJI','google','rate','gdp_growth']]\n",
    "y = df['apple']\n",
    "# split the dataframe into train dataset and test dataset\n",
    "X_train, X_test, y_train, y_test = train_test_split(X, y, test_size=0.2, random_state=0)\n",
    "# create linear regression model\n",
    "model = OLS(y_train, X_train).fit()\n",
    "\n",
    "# summary the model\n",
    "model.summary()"
   ]
  },
  {
   "cell_type": "code",
   "execution_count": 19,
   "metadata": {},
   "outputs": [
    {
     "data": {
      "text/plain": [
       "Text(0.5, 0, 'date')"
      ]
     },
     "execution_count": 19,
     "metadata": {},
     "output_type": "execute_result"
    },
    {
     "data": {
      "image/png": "[encoded data removed]",
      "text/plain": [
       "<Figure size 720x432 with 1 Axes>"
      ]
     },
     "metadata": {
      "needs_background": "light"
     },
     "output_type": "display_data"
    }
   ],
   "source": [
    "\n",
    "# use the model to predict stock price of Apple and use RMSE to evaluate it.\n",
    "predictions = model.predict(X_train)\n",
    "# sort predictions by date\n",
    "predictions = pd.DataFrame(predictions).sort_index()\n",
    "# compare the actual stock price of Apple\n",
    "actual_price = pd.DataFrame(y_train).sort_index()\n",
    "# plot comparison\n",
    "plt.figure(figsize=(10, 6))\n",
    "plt.plot(actual_price, label='actual price')\n",
    "plt.plot(predictions, label='predicted price')\n",
    "plt.title('The comparison of actual price and predicted price')\n",
    "plt.legend(loc=0)\n",
    "plt.xlabel('date')"
   ]
  },
  {
   "cell_type": "code",
   "execution_count": 20,
   "metadata": {},
   "outputs": [
    {
     "data": {
      "text/plain": [
       "198.44519372338928"
      ]
     },
     "execution_count": 20,
     "metadata": {},
     "output_type": "execute_result"
    }
   ],
   "source": [
    "# model evaluation\n",
    "mean_squared_error(actual_price, predictions)"
   ]
  },
  {
   "cell_type": "code",
   "execution_count": 21,
   "metadata": {},
   "outputs": [
    {
     "data": {
      "text/plain": [
       "Text(0.5, 0, 'date')"
      ]
     },
     "execution_count": 21,
     "metadata": {},
     "output_type": "execute_result"
    },
    {
     "data": {
      "image/png": "[encoded data removed]",
      "text/plain": [
       "<Figure size 720x432 with 1 Axes>"
      ]
     },
     "metadata": {
      "needs_background": "light"
     },
     "output_type": "display_data"
    }
   ],
   "source": [
    "# retest it on test data set\n",
    "predictions = model.predict(X_test)\n",
    "# sort predictions by date\n",
    "predictions = pd.DataFrame(predictions).sort_index()\n",
    "# compare the actual stock price of Apple\n",
    "actual_price = pd.DataFrame(y_test).sort_index()\n",
    "# plot comparison\n",
    "plt.figure(figsize=(10, 6))\n",
    "plt.plot(actual_price, label='actual price')\n",
    "plt.plot(predictions, label='predicted price')\n",
    "plt.title('The comparison of actual price and predicted price')\n",
    "plt.legend(loc=0)\n",
    "plt.xlabel('date')"
   ]
  },
  {
   "cell_type": "code",
   "execution_count": 22,
   "metadata": {},
   "outputs": [
    {
     "data": {
      "text/plain": [
       "234.2617826418038"
      ]
     },
     "execution_count": 22,
     "metadata": {},
     "output_type": "execute_result"
    }
   ],
   "source": [
    "# model evaluation\n",
    "mean_squared_error(actual_price, predictions)"
   ]
  },
  {
   "cell_type": "code",
   "execution_count": null,
   "metadata": {},
   "outputs": [],
   "source": []
  },
  {
   "cell_type": "code",
   "execution_count": null,
   "metadata": {},
   "outputs": [],
   "source": []
  }
 ],
 "metadata": {
  "kernelspec": {
   "display_name": "Python 3",
   "language": "python",
   "name": "python3"
  },
  "language_info": {
   "codemirror_mode": {
    "name": "ipython",
    "version": 3
   },
   "file_extension": ".py",
   "mimetype": "text/x-python",
   "name": "python",
   "nbconvert_exporter": "python",
   "pygments_lexer": "ipython3",
   "version": "3.7.3"
  }
 },
 "nbformat": 4,
 "nbformat_minor": 2
}
